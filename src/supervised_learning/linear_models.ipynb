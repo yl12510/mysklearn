{
 "cells": [
  {
   "cell_type": "markdown",
   "source": [
    "# 1.1. Linear Models\n",
    "\n",
    "A set of models for regressions where the target value is a linear combination of certain features.\n",
    "\n",
    "$\\hat{y}(w, x) = w_0 + w_1 x_1 + ... + w_p x_p$\n",
    "\n",
    "where $w = (w_1, ..., w_p)$ as `coef_f` and w0 as `intercept_`"
   ],
   "metadata": {
    "collapsed": false,
    "pycharm": {
     "name": "#%% md\n"
    }
   }
  },
  {
   "cell_type": "markdown",
   "source": [
    "## 1.1.1. Ordinary Least Squares\n",
    "- `LinearRegression` fits a linear model with coefficients $w = (w_1,..., w_p)$ to minimise the variance between the expected targets and the predicted targets\n",
    "- the variance is often measured by the residual sum of squares (RSS): $|| X w - y||_2^2$\n",
    "- The smaller the RSS, the better the model fits the data\n",
    "- LinearRegression mathematically solves the problem of $\\min_{w} || X w - y||_2^2$"
   ],
   "metadata": {
    "collapsed": false,
    "pycharm": {
     "name": "#%% md\n"
    }
   }
  },
  {
   "cell_type": "code",
   "execution_count": null,
   "outputs": [],
   "source": [],
   "metadata": {
    "collapsed": false,
    "pycharm": {
     "name": "#%%\n"
    }
   }
  }
 ],
 "metadata": {
  "kernelspec": {
   "display_name": "Python 3",
   "language": "python",
   "name": "python3"
  },
  "language_info": {
   "codemirror_mode": {
    "name": "ipython",
    "version": 2
   },
   "file_extension": ".py",
   "mimetype": "text/x-python",
   "name": "python",
   "nbconvert_exporter": "python",
   "pygments_lexer": "ipython2",
   "version": "2.7.6"
  }
 },
 "nbformat": 4,
 "nbformat_minor": 0
}
