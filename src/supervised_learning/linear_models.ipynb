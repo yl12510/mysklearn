{
 "cells": [
  {
   "cell_type": "markdown",
   "source": [
    "# Linear Models\n",
    "\n",
    "A set of models for regressions where the target value is a linear combination of certain features.\n",
    "\n",
    "y(w,x) = w0 + w1x1 + ... + wpxp\n",
    "\n",
    "where w = (w1,...,wp) as `coef_f` and w0 as `intercept_`"
   ],
   "metadata": {
    "collapsed": false,
    "pycharm": {
     "name": "#%% md\n"
    }
   }
  },
  {
   "cell_type": "code",
   "execution_count": null,
   "outputs": [],
   "source": [],
   "metadata": {
    "collapsed": false,
    "pycharm": {
     "name": "#%%\n"
    }
   }
  }
 ],
 "metadata": {
  "kernelspec": {
   "display_name": "Python 3",
   "language": "python",
   "name": "python3"
  },
  "language_info": {
   "codemirror_mode": {
    "name": "ipython",
    "version": 2
   },
   "file_extension": ".py",
   "mimetype": "text/x-python",
   "name": "python",
   "nbconvert_exporter": "python",
   "pygments_lexer": "ipython2",
   "version": "2.7.6"
  }
 },
 "nbformat": 4,
 "nbformat_minor": 0
}
